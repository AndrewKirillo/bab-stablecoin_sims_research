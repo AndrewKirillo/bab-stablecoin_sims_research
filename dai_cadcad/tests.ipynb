{
 "cells": [
  {
   "cell_type": "code",
   "execution_count": 1,
   "metadata": {},
   "outputs": [],
   "source": [
    "# Imports\n",
    "\n",
    "from cadCAD.configuration import Configuration\n",
    "from cadCAD.engine import ExecutionContext, ExecutionMode, Executor\n",
    "from cadCAD.configuration.utils import config_sim\n",
    "from cadCAD.configuration import append_configs\n",
    "from cadCAD import configs\n",
    "import pandas as pd\n",
    "import numpy as np\n",
    "from numpy.random import rand\n",
    "import matplotlib.pyplot as plt\n",
    "from IPython.display import display\n",
    "from state import *\n",
    "from policies import *"
   ]
  },
  {
   "cell_type": "code",
   "execution_count": 2,
   "metadata": {},
   "outputs": [],
   "source": [
    "# Configuration parameters for the simulation.\n",
    "\n",
    "sim_configs = config_sim({\n",
    "    \"T\": range(1), # Number of timesteps\n",
    "    \"N\": 1, # Number of Monte Carlo runs\n",
    "})"
   ]
  },
  {
   "cell_type": "code",
   "execution_count": 3,
   "metadata": {},
   "outputs": [],
   "source": [
    "# \"Partial state update blocks\", each dict in the list represents one execution block within which the state update functions run in parallel (blocks are run serially).\n",
    "\n",
    "partial_state_update_blocks = [{\n",
    "    \"policies\": {\n",
    "        \"join_new_vault\": join_all,\n",
    "    },\n",
    "    \"variables\": {\n",
    "        \"vat\": update_vat,\n",
    "    }\n",
    "},{\n",
    "    \"policies\": {\n",
    "        \"bite_new_vault\": bite_all,\n",
    "    },\n",
    "    \"variables\": {\n",
    "        \"vat\": update_vat,\n",
    "        \"flipper\": update_flipper\n",
    "    }\n",
    "}]"
   ]
  },
  {
   "cell_type": "code",
   "execution_count": 4,
   "metadata": {
    "tags": []
   },
   "outputs": [
    {
     "output_type": "stream",
     "name": "stdout",
     "text": "[{'T': range(0, 1), 'N': 1, 'M': [{}]}]\n"
    }
   ],
   "source": [
    "# Initialize simulation\n",
    "\n",
    "append_configs(sim_configs=sim_configs,\n",
    "               initial_state=initial_state,\n",
    "               partial_state_update_blocks=partial_state_update_blocks,\n",
    "               policy_ops=[policy_reduce]\n",
    "               )"
   ]
  },
  {
   "cell_type": "code",
   "execution_count": 5,
   "metadata": {
    "tags": []
   },
   "outputs": [
    {
     "output_type": "stream",
     "name": "stdout",
     "text": "\n                            __________   ____ \n          ________ __ _____/ ____/   |  / __ \\\n         / ___/ __` / __  / /   / /| | / / / /\n        / /__/ /_/ / /_/ / /___/ ___ |/ /_/ / \n        \\___/\\__,_/\\__,_/\\____/_/  |_/_____/  \n        by BlockScience\n        \nExecution Mode: multi_proc: [<cadCAD.configuration.Configuration object at 0x7f88b0282a90>]\nConfigurations: [<cadCAD.configuration.Configuration object at 0x7f88b0282a90>]\n"
    }
   ],
   "source": [
    "# Executing the simulation.\n",
    "\n",
    "exec_mode = ExecutionMode()\n",
    "exec_context = ExecutionContext(exec_mode.multi_proc)\n",
    "executor = Executor(exec_context, configs)\n",
    "\n",
    "results = []\n",
    "for raw_result, tensor in executor.execute():\n",
    "    df = pd.DataFrame(raw_result)\n",
    "    results.append(df)"
   ]
  },
  {
   "cell_type": "code",
   "execution_count": 9,
   "metadata": {},
   "outputs": [
    {
     "output_type": "execute_result",
     "data": {
      "text/plain": "{'dummy_vault': {'vault_id': '', 'eth': 0, 'dai': 0, 'bitten': False},\n '2370dbe860f0401aafb0237fd4693ed0': {'vault_id': '2370dbe860f0401aafb0237fd4693ed0',\n  'eth': 150,\n  'dai': 100,\n  'bitten': False}}"
     },
     "metadata": {},
     "execution_count": 9
    }
   ],
   "source": [
    "results[0][\"vat\"][2]"
   ]
  },
  {
   "cell_type": "code",
   "execution_count": null,
   "metadata": {},
   "outputs": [],
   "source": []
  }
 ],
 "metadata": {
  "language_info": {
   "codemirror_mode": {
    "name": "ipython",
    "version": 3
   },
   "file_extension": ".py",
   "mimetype": "text/x-python",
   "name": "python",
   "nbconvert_exporter": "python",
   "pygments_lexer": "ipython3",
   "version": "3.6.10-final"
  },
  "orig_nbformat": 2,
  "kernelspec": {
   "name": "python361064bitstablecoinresearchconda0c4fdeb12b0845fdb781efc02b665063",
   "display_name": "Python 3.6.10 64-bit ('stablecoin_research': conda)"
  }
 },
 "nbformat": 4,
 "nbformat_minor": 2
}