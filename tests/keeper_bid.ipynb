{
 "cells": [
  {
   "cell_type": "code",
   "execution_count": 1,
   "metadata": {},
   "outputs": [],
   "source": [
    "from cadCAD.configuration import Configuration\n",
    "from cadCAD.engine import ExecutionContext, ExecutionMode, Executor\n",
    "from cadCAD.configuration.utils import config_sim\n",
    "from cadCAD.configuration import append_configs\n",
    "from cadCAD import configs\n",
    "import pandas as pd\n",
    "import numpy as np\n",
    "from numpy.random import rand\n",
    "import matplotlib.pyplot as plt\n",
    "\n",
    "from os import path\n",
    "import sys\n",
    "sys.path.append(path.abspath(\"../dai_cadcad\"))\n",
    "\n",
    "from state import *\n",
    "from policies import *\n",
    "from sim_configs import *"
   ]
  },
  {
   "cell_type": "code",
   "execution_count": 2,
   "metadata": {},
   "outputs": [],
   "source": [
    "partial_state_update_blocks = [{\n",
    "    \"policies\": {\n",
    "        \"keepers_bid\": process_bid_all,\n",
    "    },\n",
    "    \"variables\": {\n",
    "        \"flipper\": update_flipper,\n",
    "    }\n",
    "},]"
   ]
  },
  {
   "cell_type": "code",
   "execution_count": 3,
   "metadata": {
    "tags": []
   },
   "outputs": [
    {
     "output_type": "stream",
     "name": "stdout",
     "text": "[{'N': 1, 'T': range(0, 1), 'M': {'SUMP': 0, 'DUMP': 0, 'BUMP': 0, 'HUMP': 0, 'FLIP_BEG': 0, 'FLIP_TAU': 0, 'FLOP_BEG': 0, 'FLOP_TAU': 0, 'FLAP_BEG': 0, 'FLAP_TAU': 0, 'ETH_LINE': 0, 'ETH_DUST': 0, 'DSR': 0, 'WARM_TAU': 0}}, {'N': 1, 'T': range(0, 1), 'M': {'SUMP': 0, 'DUMP': 0, 'BUMP': 0, 'HUMP': 0, 'FLIP_BEG': 0, 'FLIP_TAU': 0, 'FLOP_BEG': 0, 'FLOP_TAU': 0, 'FLAP_BEG': 0, 'FLAP_TAU': 0, 'ETH_LINE': 160000, 'ETH_DUST': 0, 'DSR': 0, 'WARM_TAU': 1}}]\n"
    }
   ],
   "source": [
    "print(join_bite_sim_config)\n",
    "append_configs(sim_configs=join_bite_sim_config,\n",
    "               initial_state=initial_state,\n",
    "               partial_state_update_blocks=partial_state_update_blocks,\n",
    "               policy_ops=[policy_reduce]\n",
    "               )"
   ]
  },
  {
   "cell_type": "code",
   "execution_count": 4,
   "metadata": {
    "tags": []
   },
   "outputs": [
    {
     "output_type": "stream",
     "name": "stdout",
     "text": "\n                  ___________    ____\n  ________ __ ___/ / ____/   |  / __ \\\n / ___/ __` / __  / /   / /| | / / / /\n/ /__/ /_/ / /_/ / /___/ ___ |/ /_/ /\n\\___/\\__,_/\\__,_/\\____/_/  |_/_____/\nby cadCAD\n\nExecution Mode: multi_proc\nConfiguration Count: 2\nDimensions of the first simulation: (Timesteps, Params, Runs, Vars) = (1, 14, 1, 7)\nExecution Method: parallelize_simulations\nExecution Mode: parallelized\nTotal execution time: 0.18s\n"
    }
   ],
   "source": [
    "exec_mode = ExecutionMode()\n",
    "exec_context = ExecutionContext(context=exec_mode.multi_mode)\n",
    "executor = Executor(exec_context=exec_context, configs=configs)\n",
    "\n",
    "raw_result, tensor, sessions = executor.execute()\n",
    "result = pd.DataFrame(raw_result)"
   ]
  },
  {
   "cell_type": "code",
   "execution_count": 13,
   "metadata": {
    "tags": []
   },
   "outputs": [
    {
     "output_type": "execute_result",
     "data": {
      "text/plain": "{'dummy_flip': {'flip_id': '',\n  'phase': '',\n  'debt_to_flip': 0,\n  'vault': '',\n  'lot_eth': 0,\n  'bid_dai': 0,\n  'bidder': '',\n  'expiry': 0,\n  'pending_bids': [{'bid': 0, 'lot': 0, 'phase': 'dent', 'keeper_id': ''},\n   {'bid': 4, 'keeper_id': ''}]}}"
     },
     "metadata": {},
     "execution_count": 13
    }
   ],
   "source": [
    "result[\"flipper\"][1]"
   ]
  },
  {
   "cell_type": "code",
   "execution_count": null,
   "metadata": {},
   "outputs": [],
   "source": []
  }
 ],
 "metadata": {
  "kernelspec": {
   "display_name": "Python 3.8.3 64-bit ('jupyter3': venv)",
   "language": "python",
   "name": "python_defaultSpec_1598728434659"
  },
  "language_info": {
   "codemirror_mode": {
    "name": "ipython",
    "version": 3
   },
   "file_extension": ".py",
   "mimetype": "text/x-python",
   "name": "python",
   "nbconvert_exporter": "python",
   "pygments_lexer": "ipython3",
   "version": "3.8.3-final"
  }
 },
 "nbformat": 4,
 "nbformat_minor": 2
}