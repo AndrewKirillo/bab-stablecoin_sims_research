{
 "cells": [
  {
   "cell_type": "code",
   "execution_count": 1,
   "metadata": {},
   "outputs": [],
   "source": [
    "# Imports\n",
    "\n",
    "from cadCAD.configuration import Configuration\n",
    "from cadCAD.engine import ExecutionContext, ExecutionMode, Executor\n",
    "from cadCAD.configuration.utils import config_sim\n",
    "from cadCAD.configuration import append_configs\n",
    "from cadCAD import configs\n",
    "import pandas as pd\n",
    "import numpy as np\n",
    "from numpy.random import rand\n",
    "import matplotlib.pyplot as plt\n",
    "from IPython.display import display\n",
    "from state import *\n",
    "from policies import *"
   ]
  },
  {
   "cell_type": "code",
   "execution_count": 2,
   "metadata": {},
   "outputs": [],
   "source": [
    "sim_configs = config_sim({\n",
    "    \"T\": range(2),\n",
    "    \"N\": 1,\n",
    "    \"M\": {\n",
    "        \"warmup_end\": [1]\n",
    "    }\n",
    "})"
   ]
  },
  {
   "cell_type": "code",
   "execution_count": 3,
   "metadata": {},
   "outputs": [],
   "source": [
    "partial_state_update_blocks = [{\n",
    "    \"policies\": {\n",
    "        \"join_new_vault\": join_all,\n",
    "    },\n",
    "    \"variables\": {\n",
    "        \"vat\": update_vat,\n",
    "    }\n",
    "},{\n",
    "    \"policies\": {\n",
    "        \"bite_new_vault\": bite_all,\n",
    "    },\n",
    "    \"variables\": {\n",
    "        \"vat\": update_vat,\n",
    "        \"flipper\": update_flipper\n",
    "    }\n",
    "}]"
   ]
  },
  {
   "cell_type": "code",
   "execution_count": 4,
   "metadata": {
    "tags": []
   },
   "outputs": [
    {
     "output_type": "stream",
     "name": "stdout",
     "text": "[{'N': 1, 'T': range(0, 2), 'M': {'warmup_end': 1}}]\n"
    }
   ],
   "source": [
    "append_configs(sim_configs=sim_configs,\n",
    "               initial_state=initial_state,\n",
    "               partial_state_update_blocks=partial_state_update_blocks,\n",
    "               policy_ops=[policy_reduce]\n",
    "               )"
   ]
  },
  {
   "cell_type": "code",
   "execution_count": 5,
   "metadata": {
    "tags": []
   },
   "outputs": [
    {
     "output_type": "stream",
     "name": "stdout",
     "text": "\n                            __________   ____ \n          ________ __ _____/ ____/   |  / __ \\\n         / ___/ __` / __  / /   / /| | / / / /\n        / /__/ /_/ / /_/ / /___/ ___ |/ /_/ / \n        \\___/\\__,_/\\__,_/\\____/_/  |_/_____/  \n        by BlockScience\n        \nExecution Mode: multi_proc: [<cadCAD.configuration.Configuration object at 0x7faffd960908>]\nConfigurations: [<cadCAD.configuration.Configuration object at 0x7faffd960908>]\n"
    }
   ],
   "source": [
    "exec_mode = ExecutionMode()\n",
    "exec_context = ExecutionContext(exec_mode.multi_proc)\n",
    "executor = Executor(exec_context, configs)\n",
    "\n",
    "results = []\n",
    "for raw_result, tensor in executor.execute():\n",
    "    df = pd.DataFrame(raw_result)\n",
    "    results.append(df)"
   ]
  },
  {
   "cell_type": "code",
   "execution_count": 10,
   "metadata": {},
   "outputs": [
    {
     "output_type": "execute_result",
     "data": {
      "text/plain": "': '06077989073a43259fcbac0ac0712c33',\n  'lot_eth': 150,\n  'bid_dai': 0,\n  'bidder': '',\n  'expiry': 0},\n '8f0dfcdc87a5466e9ba1eadf37da18d6': {'flip_id': '8f0dfcdc87a5466e9ba1eadf37da18d6',\n  'phase': 'tend',\n  'debt_to_flip': 110.00000000000001,\n  'vault': 'dd2d103a40a94411980b18df25282498',\n  'lot_eth': 150,\n  'bid_dai': 0,\n  'bidder': '',\n  'expiry': 0},\n 'da119cf735004374a1a6f5d55429a9c1': {'flip_id': 'da119cf735004374a1a6f5d55429a9c1',\n  'phase': 'tend',\n  'debt_to_flip': 110.00000000000001,\n  'vault': '9a0db5e57ff74303b3280e9ac847894c',\n  'lot_eth': 150,\n  'bid_dai': 0,\n  'bidder': '',\n  'expiry': 0},\n 'c9919eafa987470a84016d34cd18b4b1': {'flip_id': 'c9919eafa987470a84016d34cd18b4b1',\n  'phase': 'tend',\n  'debt_to_flip': 110.00000000000001,\n  'vault': '6caf7c74c13b4b7fa152981e87de0b7b',\n  'lot_eth': 150,\n  'bid_dai': 0,\n  'bidder': '',\n  'expiry': 0},\n '0a9ee6f0a6c049feb0962ef537f2c3df': {'flip_id': '0a9ee6f0a6c049feb0962ef537f2c3df',\n  'phase': 'tend',\n  'debt_to_flip': 110.00000000000001,\n  'vault': 'e6ce585a29b54d259b4ed129c1cec8ce',\n  'lot_eth': 150,\n  'bid_dai': 0,\n  'bidder': '',\n  'expiry': 0},\n 'bbd9c7e230884edfb19f45bfe8c0ca31': {'flip_id': 'bbd9c7e230884edfb19f45bfe8c0ca31',\n  'phase': 'tend',\n  'debt_to_flip': 110.00000000000001,\n  'vault': '61844af49b214947bdeb30794d791fc6',\n  'lot_eth': 150,\n  'bid_dai': 0,\n  'bidder': '',\n  'expiry': 0},\n 'ed39221510d94ae9b09bf4d51f5b357c': {'flip_id': 'ed39221510d94ae9b09bf4d51f5b357c',\n  'phase': 'tend',\n  'debt_to_flip': 110.00000000000001,\n  'vault': 'ab5c7543e84240b9983ed0581b199460',\n  'lot_eth': 150,\n  'bid_dai': 0,\n  'bidder': '',\n  'expiry': 0},\n 'e50070f9866b462493eb7b4ec46e49a8': {'flip_id': 'e50070f9866b462493eb7b4ec46e49a8',\n  'phase': 'tend',\n  'debt_to_flip': 110.00000000000001,\n  'vault': '1c51409d4fbb497cbd55e470439b8df8',\n  'lot_eth': 150,\n  'bid_dai': 0,\n  'bidder': '',\n  'expiry': 0},\n '2cdb3c37f4c94e3198fc8198e1a05337': {'flip_id': '2cdb3c37f4c94e3198fc8198e1a05337',\n  'phase': 'tend',\n  'debt_to_flip': 110.00000000000001,\n  'vault': '826d2c81c0a945e4958689be2364c709',\n  'lot_eth': 150,\n  'bid_dai': 0,\n  'bidder': '',\n  'expiry': 0},\n 'f8be96342a4a48f0b37f8d2db21a7d0c': {'flip_id': 'f8be96342a4a48f0b37f8d2db21a7d0c',\n  'phase': 'tend',\n  'debt_to_flip': 110.00000000000001,\n  'vault': '1166ee5ad93147c3a6e5780e7831c6e3',\n  'lot_eth': 150,\n  'bid_dai': 0,\n  'bidder': '',\n  'expiry': 0},\n 'a6df6c99487b4f1a961a288aca630ba1': {'flip_id': 'a6df6c99487b4f1a961a288aca630ba1',\n  'phase': 'tend',\n  'debt_to_flip': 110.00000000000001,\n  'vault': '9bbd388e2eb84aa1b409d965a9a4480a',\n  'lot_eth': 150,\n  'bid_dai': 0,\n  'bidder': '',\n  'expiry': 0},\n '5a1ba9f8ed6a4cbf848177887aab87a6': {'flip_id': '5a1ba9f8ed6a4cbf848177887aab87a6',\n  'phase': 'tend',\n  'debt_to_flip': 110.00000000000001,\n  'vault': '88acab38cda5444c82d63d5b84cbce28',\n  'lot_eth': 150,\n  'bid_dai': 0,\n  'bidder': '',\n  'expiry': 0},\n '5646f1c6a43442d09ec07e8059b2d114': {'flip_id': '5646f1c6a43442d09ec07e8059b2d114',\n  'phase': 'tend',\n  'debt_to_flip': 110.00000000000001,\n  'vault': 'c2ef528753b8499787342f59d14423e6',\n  'lot_eth': 150,\n  'bid_dai': 0,\n  'bidder': '',\n  'expiry': 0},\n '6db1be18854f43118630feea4235bee6': {'flip_id': '6db1be18854f43118630feea4235bee6',\n  'phase': 'tend',\n  'debt_to_flip': 110.00000000000001,\n  'vault': '6520fe77338346a8b59283cbaa1e427f',\n  'lot_eth': 150,\n  'bid_dai': 0,\n  'bidder': '',\n  'expiry': 0},\n 'c3cab71e8567432d9bdce20496d2960a': {'flip_id': 'c3cab71e8567432d9bdce20496d2960a',\n  'phase': 'tend',\n  'debt_to_flip': 110.00000000000001,\n  'vault': 'bb57cdcb504f484e84c2e61f63e33a3a',\n  'lot_eth': 150,\n  'bid_dai': 0,\n  'bidder': '',\n  'expiry': 0},\n 'e7276458216e49fba5f03dc74c51b68b': {'flip_id': 'e7276458216e49fba5f03dc74c51b68b',\n  'phase': 'tend',\n  'debt_to_flip': 110.00000000000001,\n  'vault': 'cd73d3d211ae4879b6b5e5f6beef8e4c',\n  'lot_eth': 150,\n  'bid_dai': 0,\n  'bidder': '',\n  'expiry': 0},\n '1089e5cffdf548e09391a72c5b6a65da': {'flip_id': '1089e5cffdf548e09391a72c5b6a65da',\n  'phase': 'tend',\n  'debt_to_flip': 110.00000000000001,\n  'vault': '039cd315623d4937892abeef8cb78253',\n  'lot_eth': 150,\n  'bid_dai': 0,\n  'bidder': '',\n  'expiry': 0},\n 'aed0915cd2284f9691157f2910a987df': {'flip_id': 'aed0915cd2284f9691157f2910a987df',\n  'phase': 'tend',\n  'debt_to_flip': 110.00000000000001,\n  'vault': '201927c6e1764e9893f814fb619d2483',\n  'lot_eth': 150,\n  'bid_dai': 0,\n  'bidder': '',\n  'expiry': 0},\n 'f8eb1e5e4d1648f4bcb1b91b9cf54a1d': {'flip_id': 'f8eb1e5e4d1648f4bcb1b91b9cf54a1d',\n  'phase': 'tend',\n  'debt_to_flip': 110.00000000000001,\n  'vault': '52fca337788048a89b3ecda5cc9c2380',\n  'lot_eth': 150,\n  'bid_dai': 0,\n  'bidder': '',\n  'expiry': 0},\n 'bccdf84493ef4e3398764c2e071d17b6': {'flip_id': 'bccdf84493ef4e3398764c2e071d17b6',\n  'phase': 'tend',\n  'debt_to_flip': 110.00000000000001,\n  'vault': '47c1950929a84f1191bf8d308919a4b1',\n  'lot_eth': 150,\n  'bid_dai': 0,\n  'bidder': '',\n  'expiry': 0},\n '2454b0e229d741709ca16ae2a7115269': {'flip_id': '2454b0e229d741709ca16ae2a7115269',\n  'phase': 'tend',\n  'debt_to_flip': 110.00000000000001,\n  'vault': '5d4f43c70b3442c6a5bb480ef4ae81a0',\n  'lot_eth': 150,\n  'bid_dai': 0,\n  'bidder': '',\n  'expiry': 0},\n '9de75abdd6284900a0cff60af4d0b73c': {'flip_id': '9de75abdd6284900a0cff60af4d0b73c',\n  'phase': 'tend',\n  'debt_to_flip': 110.00000000000001,\n  'vault': 'ce1160f86ae54fd9910a35a494046693',\n  'lot_eth': 150,\n  'bid_dai': 0,\n  'bidder': '',\n  'expiry': 0},\n 'cebf8a1acf0741708cb0f42c2b5a559c': {'flip_id': 'cebf8a1acf0741708cb0f42c2b5a559c',\n  'phase': 'tend',\n  'debt_to_flip': 110.00000000000001,\n  'vault': '1f5630075924418ab6d713db67e2681f',\n  'lot_eth': 150,\n  'bid_dai': 0,\n  'bidder': '',\n  'expiry': 0},\n 'da1057968cf547f8a7f2faf3310d982d': {'flip_id': 'da1057968cf547f8a7f2faf3310d982d',\n  'phase': 'tend',\n  'debt_to_flip': 110.00000000000001,\n  'vault': '8400332cef384346bf47a9ab15f52f1d',\n  'lot_eth': 150,\n  'bid_dai': 0,\n  'bidder': '',\n  'expiry': 0},\n '3b426be7768341ab929968cd05b3e2b9': {'flip_id': '3b426be7768341ab929968cd05b3e2b9',\n  'phase': 'tend',\n  'debt_to_flip': 110.00000000000001,\n  'vault': 'ba5a415ff1ad45ac84dfa1e29b9d70a2',\n  'lot_eth': 150,\n  'bid_dai': 0,\n  'bidder': '',\n  'expiry': 0},\n 'f41c57be4e9f4a71a9f7fefbe32b7da0': {'flip_id': 'f41c57be4e9f4a71a9f7fefbe32b7da0',\n  'phase': 'tend',\n  'debt_to_flip': 110.00000000000001,\n  'vault': '0dc8f1f56b744b32a3bbd0f8e4ff2c84',\n  'lot_eth': 150,\n  'bid_dai': 0,\n  'bidder': '',\n  'expiry': 0},\n '94c0ff328bc34433be4e9e6f9cf538b9': {'flip_id': '94c0ff328bc34433be4e9e6f9cf538b9',\n  'phase': 'tend',\n  'debt_to_flip': 110.00000000000001,\n  'vault': '25bd8173a7e04e5a9acfeae6835c5df6',\n  'lot_eth': 150,\n  'bid_dai': 0,\n  'bidder': '',\n  'expiry': 0},\n '18d207d26b57418f88c30f67598f5f30': {'flip_id': '18d207d26b57418f88c30f67598f5f30',\n  'phase': 'tend',\n  'debt_to_flip': 110.00000000000001,\n  'vault': '1950d2470bdc48578448878120d36fc0',\n  'lot_eth': 150,\n  'bid_dai': 0,\n  'bidder': '',\n  'expiry': 0},\n '15ea09cd96a14b84ac55738fbae4d0ca': {'flip_id': '15ea09cd96a14b84ac55738fbae4d0ca',\n  'phase': 'tend',\n  'debt_to_flip': 110.00000000000001,\n  'vault': '80f662b418e54493b69a4a46a6236a58',\n  'lot_eth': 150,\n  'bid_dai': 0,\n  'bidder': '',\n  'expiry': 0},\n 'fec73d48e0474a8e963ce4f85d911bd1': {'flip_id': 'fec73d48e0474a8e963ce4f85d911bd1',\n  'phase': 'tend',\n  'debt_to_flip': 110.00000000000001,\n  'vault': 'd25c2e7e80d441bca616edaf7033d6b0',\n  'lot_eth': 150,\n  'bid_dai': 0,\n  'bidder': '',\n  'expiry': 0},\n '3e916ce789a14aec901a42087ce9bf6f': {'flip_id': '3e916ce789a14aec901a42087ce9bf6f',\n  'phase': 'tend',\n  'debt_to_flip': 110.00000000000001,\n  'vault': '4dbcde9dcae64987ac67706e9e6dcddc',\n  'lot_eth': 150,\n  'bid_dai': 0,\n  'bidder': '',\n  'expiry': 0},\n '8bfbc06e5c9541ebac2f942a7714ae86': {'flip_id': '8bfbc06e5c9541ebac2f942a7714ae86',\n  'phase': 'tend',\n  'debt_to_flip': 110.00000000000001,\n  'vault': '3662dd8f057a4c6387c3a74a814499c3',\n  'lot_eth': 150,\n  'bid_dai': 0,\n  'bidder': '',\n  'expiry': 0},\n '32cb532f4e3344ea98988472119b3687': {'flip_id': '32cb532f4e3344ea98988472119b3687',\n  'phase': 'tend',\n  'debt_to_flip': 110.00000000000001,\n  'vault': '9cf50598c13e4684a5c7541308829036',\n  'lot_eth': 150,\n  'bid_dai': 0,\n  'bidder': '',\n  'expiry': 0},\n '8b9bc6221b86475590a59207babcf0e4': {'flip_id': '8b9bc6221b86475590a59207babcf0e4',\n  'phase': 'tend',\n  'debt_to_flip': 110.00000000000001,\n  'vault': 'df03da0fffcf4413b86972a528741b46',\n  'lot_eth': 150,\n  'bid_dai': 0,\n  'bidder': '',\n  'expiry': 0},\n 'd359434c13614e16a958b677c46d5eb8': {'flip_id': 'd359434c13614e16a958b677c46d5eb8',\n  'phase': 'tend',\n  'debt_to_flip': 110.00000000000001,\n  'vault': 'b5dc8e9962f34aa4a036c242072a8f6e',\n  'lot_eth': 150,\n  'bid_dai': 0,\n  'bidder': '',\n  'expiry': 0},\n 'f6ce91758de44a3895e4b5e43381f1fd': {'flip_id': 'f6ce91758de44a3895e4b5e43381f1fd',\n  'phase': 'tend',\n  'debt_to_flip': 110.00000000000001,\n  'vault': '517c9f39ca804d998aa3480933563b6e',\n  'lot_eth': 150,\n  'bid_dai': 0,\n  'bidder': '',\n  'expiry': 0},\n '087617901b7e494a9788ced9fc78381d': {'flip_id': '087617901b7e494a9788ced9fc78381d',\n  'phase': 'tend',\n  'debt_to_flip': 110.00000000000001,\n  'vault': '9b7e63197cab4e5781c39c8d1984fb0e',\n  'lot_eth': 150,\n  'bid_dai': 0,\n  'bidder': '',\n  'expiry': 0},\n '7743404ef28946eeab30bcde98bb0cdd': {'flip_id': '7743404ef28946eeab30bcde98bb0cdd',\n  'phase': 'tend',\n  'debt_to_flip': 110.00000000000001,\n  'vault': '1d8925720be54870bd1650aa0a2b4fb3',\n  'lot_eth': 150,\n  'bid_dai': 0,\n  'bidder': '',\n  'expiry': 0},\n 'f1d2db24a4c74a03ba05e87ff663637a': {'flip_id': 'f1d2db24a4c74a03ba05e87ff663637a',\n  'phase': 'tend',\n  'debt_to_flip': 110.00000000000001,\n  'vault': '26d4dc632e684f49bc77c0fb62854a81',\n  'lot_eth': 150,\n  'bid_dai': 0,\n  'bidder': '',\n  'expiry': 0},\n '6c306d5b83a742c39a0198b93c9902cd': {'flip_id': '6c306d5b83a742c39a0198b93c9902cd',\n  'phase': 'tend',\n  'debt_to_flip': 110.00000000000001,\n  'vault': '8df4c72b3f6b40f28a132a56415417a1',\n  'lot_eth': 150,\n  'bid_dai': 0,\n  'bidder': '',\n  'expiry': 0},\n 'ca325fe2b1424026bf97b38b1cccac16': {'flip_id': 'ca325fe2b1424026bf97b38b1cccac16',\n  'phase': 'tend',\n  'debt_to_flip': 110.00000000000001,\n  'vault': '4d35f06974284a3fa8ca20e15619a969',\n  'lot_eth': 150,\n  'bid_dai': 0,\n  'bidder': '',\n  'expiry': 0},\n 'd3c59df6ef4f48ffafd7ea4821248e70': {'flip_id': 'd3c59df6ef4f48ffafd7ea4821248e70',\n  'phase': 'tend',\n  'debt_to_flip': 110.00000000000001,\n  'vault': 'a56f5c0cfdb14492a79a9a8c4391392e',\n  'lot_eth': 150,\n  'bid_dai': 0,\n  'bidder': '',\n  'expiry': 0},\n '018714a3b01541479d7e1ba9770ad690': {'flip_id': '018714a3b01541479d7e1ba9770ad690',\n  'phase': 'tend',\n  'debt_to_flip': 110.00000000000001,\n  'vault': 'c070e237b0d24a648becd8344fce5105',\n  'lot_eth': 150,\n  'bid_dai': 0,\n  'bidder': '',\n  'expiry': 0},\n 'b4dcaf1fd7d44172966fc443327aa794': {'flip_id': 'b4dcaf1fd7d44172966fc443327aa794',\n  'phase': 'tend',\n  'debt_to_flip': 110.00000000000001,\n  'vault': 'ea33111fede44a8e9b3366115abea12a',\n  'lot_eth': 150,\n  'bid_dai': 0,\n  'bidder': '',\n  'expiry': 0},\n '83867e7d63ac47eaac7a0b7119827b1c': {'flip_id': '83867e7d63ac47eaac7a0b7119827b1c',\n  'phase': 'tend',\n  'debt_to_flip': 110.00000000000001,\n  'vault': '43eea1618bd6493fbeb4f6268f3b2b80',\n  'lot_eth': 150,\n  'bid_dai': 0,\n  'bidder': '',\n  'expiry': 0},\n '51865bcef9a44a6aac140462f09e20a8': {'flip_id': '51865bcef9a44a6aac140462f09e20a8',\n  'phase': 'tend',\n  'debt_to_flip': 110.00000000000001,\n  'vault': '92ca7bedee874919b6b9995b6c9d2a3e',\n  'lot_eth': 150,\n  'bid_dai': 0,\n  'bidder': '',\n  'expiry': 0},\n 'd288f5a4b55341da8deeb273a9692f1e': {'flip_id': 'd288f5a4b55341da8deeb273a9692f1e',\n  'phase': 'tend',\n  'debt_to_flip': 110.00000000000001,\n  'vault': '4afdbe635e45422a99ef3dbc038a9cb7',\n  'lot_eth': 150,\n  'bid_dai': 0,\n  'bidder': '',\n  'expiry': 0},\n 'f0e051b225684f8692586e340524097c': {'flip_id': 'f0e051b225684f8692586e340524097c',\n  'phase': 'tend',\n  'debt_to_flip': 110.00000000000001,\n  'vault': '712471a480da415da7d1bb2e4b89e3ea',\n  'lot_eth': 150,\n  'bid_dai': 0,\n  'bidder': '',\n  'expiry': 0},\n '160f853f47b04c53a886d1ddf59a95fa': {'flip_id': '160f853f47b04c53a886d1ddf59a95fa',\n  'phase': 'tend',\n  'debt_to_flip': 110.00000000000001,\n  'vault': '7a2c836eded84b9c998f2e856431686b',\n  'lot_eth': 150,\n  'bid_dai': 0,\n  'bidder': '',\n  'expiry': 0},\n '7fe95c8f46c24e20a50d6b3a7814943f': {'flip_id': '7fe95c8f46c24e20a50d6b3a7814943f',\n  'phase': 'tend',\n  'debt_to_flip': 110.00000000000001,\n  'vault': '5bc5776fd709494a8bd4b544c256dd6f',\n  'lot_eth': 150,\n  'bid_dai': 0,\n  'bidder': '',\n  'expiry': 0},\n '7d95c0dd289a4174b55e798c53fa8c7e': {'flip_id': '7d95c0dd289a4174b55e798c53fa8c7e',\n  'phase': 'tend',\n  'debt_to_flip': 110.00000000000001,\n  'vault': '93b48c3e3a8b4922840de2aa6a31aa92',\n  'lot_eth': 150,\n  'bid_dai': 0,\n  'bidder': '',\n  'expiry': 0},\n 'ec852fc9711a4a12be6a660998bff104': {'flip_id': 'ec852fc9711a4a12be6a660998bff104',\n  'phase': 'tend',\n  'debt_to_flip': 110.00000000000001,\n  'vault': '391801521eea448ea032dc61ef666a5e',\n  'lot_eth': 150,\n  'bid_dai': 0,\n  'bidder': '',\n  'expiry': 0},\n '71d6e90a3fc54ce99a623cda18b0af56': {'flip_id': '71d6e90a3fc54ce99a623cda18b0af56',\n  'phase': 'tend',\n  'debt_to_flip': 110.00000000000001,\n  'vault': 'd3d5adefdfed4ed4ae13c3e1e8f6d5af',\n  'lot_eth': 150,\n  'bid_dai': 0,\n  'bidder': '',\n  'expiry': 0},\n '99b8261e6f3740ec957cadc58881c7aa': {'flip_id': '99b8261e6f3740ec957cadc58881c7aa',\n  'phase': 'tend',\n  'debt_to_flip': 110.00000000000001,\n  'vault': 'c724730074bf49c3b72f609157a435b6',\n  'lot_eth': 150,\n  'bid_dai': 0,\n  'bidder': '',\n  'expiry': 0},\n '129e7d1842b9411093849f2eecc29a14': {'flip_id': '129e7d1842b9411093849f2eecc29a14',\n  'phase': 'tend',\n  'debt_to_flip': 110.00000000000001,\n  'vault': 'b865692e12cd497483f58b683ca9b101',\n  'lot_eth': 150,\n  'bid_dai': 0,\n  'bidder': '',\n  'expiry': 0},\n 'e8649da82d2c4ed6b043baeae8611905': {'flip_id': 'e8649da82d2c4ed6b043baeae8611905',\n  'phase': 'tend',\n  'debt_to_flip': 110.00000000000001,\n  'vault': '4cf4f3d730614da6a22a76b3fe9659f3',\n  'lot_eth': 150,\n  'bid_dai': 0,\n  'bidder': '',\n  'expiry': 0},\n 'edbc6350b974433495afba10b8754c8d': {'flip_id': 'edbc6350b974433495afba10b8754c8d',\n  'phase': 'tend',\n  'debt_to_flip': 110.00000000000001,\n  'vault': '1ab1de9557e3421990f03c3cf9bc6ebd',\n  'lot_eth': 150,\n  'bid_dai': 0,\n  'bidder': '',\n  'expiry': 0},\n '66675fb7fa204879b4b36637aa5f8561': {'flip_id': '66675fb7fa204879b4b36637aa5f8561',\n  'phase': 'tend',\n  'debt_to_flip': 110.00000000000001,\n  'vault': '48aeb932daf74e2385a2d7d858470723',\n  'lot_eth': 150,\n  'bid_dai': 0,\n  'bidder': '',\n  'expiry': 0},\n '872d37baa236400b8f2b2608b0715857': {'flip_id': '872d37baa236400b8f2b2608b0715857',\n  'phase': 'tend',\n  'debt_to_flip': 110.00000000000001,\n  'vault': '8368fb55b2bc440f9045d2a948f0f501',\n  'lot_eth': 150,\n  'bid_dai': 0,\n  'bidder': '',\n  'expiry': 0},\n '679d1e609dde4974bfda2dc4a47eb182': {'flip_id': '679d1e609dde4974bfda2dc4a47eb182',\n  'phase': 'tend',\n  'debt_to_flip': 110.00000000000001,\n  'vault': 'f8275fcb1348481e935078f3627e7931',\n  'lot_eth': 150,\n  'bid_dai': 0,\n  'bidder': '',\n  'expiry': 0},\n '462957a6455b44cd8344c088ad457905': {'flip_id': '462957a6455b44cd8344c088ad457905',\n  'phase': 'tend',\n  'debt_to_flip': 110.00000000000001,\n  'vault': '924d39167e2743e181b36af2196f76f5',\n  'lot_eth': 150,\n  'bid_dai': 0,\n  'bidder': '',\n  'expiry': 0},\n 'b16a2b9846e24456a73854de6a5e212c': {'flip_id': 'b16a2b9846e24456a73854de6a5e212c',\n  'phase': 'tend',\n  'debt_to_flip': 110.00000000000001,\n  'vault': '4599bcb1be7148758513331cf4559d44',\n  'lot_eth': 150,\n  'bid_dai': 0,\n  'bidder': '',\n  'expiry': 0},\n 'be58b37e71fe4736ae98f7f0ddf57041': {'flip_id': 'be58b37e71fe4736ae98f7f0ddf57041',\n  'phase': 'tend',\n  'debt_to_flip': 110.00000000000001,\n  'vault': '431184bc8506461a8bc11024f280daf7',\n  'lot_eth': 150,\n  'bid_dai': 0,\n  'bidder': '',\n  'expiry': 0},\n 'b6b359cff83d471ba7d29184335d445b': {'flip_id': 'b6b359cff83d471ba7d29184335d445b',\n  'phase': 'tend',\n  'debt_to_flip': 110.00000000000001,\n  'vault': '998099b77d6b4dd0a6a75dec1f4e28c4',\n  'lot_eth': 150,\n  'bid_dai': 0,\n  'bidder': '',\n  'expiry': 0},\n 'a9e31192037f4bf1b2516dcd5a36fef0': {'flip_id': 'a9e31192037f4bf1b2516dcd5a36fef0',\n  'phase': 'tend',\n  'debt_to_flip': 110.00000000000001,\n  'vault': '437a2722cfec4a90b8edbc683004ac52',\n  'lot_eth': 150,\n  'bid_dai': 0,\n  'bidder': '',\n  'expiry': 0},\n '9c42bee5d4d94ae6963abce0074147c8': {'flip_id': '9c42bee5d4d94ae6963abce0074147c8',\n  'phase': 'tend',\n  'debt_to_flip': 110.00000000000001,\n  'vault': 'e34afa91cb5442939f6c8705a9836fb4',\n  'lot_eth': 150,\n  'bid_dai': 0,\n  'bidder': '',\n  'expiry': 0},\n 'd46f3ce05e2446e787ad792936376f8c': {'flip_id': 'd46f3ce05e2446e787ad792936376f8c',\n  'phase': 'tend',\n  'debt_to_flip': 110.00000000000001,\n  'vault': '79e75fa7a7cb4660b43b118c4f9b038a',\n  'lot_eth': 150,\n  'bid_dai': 0,\n  'bidder': '',\n  'expiry': 0},\n 'c32f02061fb5436f888ac402a846bfa7': {'flip_id': 'c32f02061fb5436f888ac402a846bfa7',\n  'phase': 'tend',\n  'debt_to_flip': 110.00000000000001,\n  'vault': '10c945101f3f4eec8d0a9d4b2e198867',\n  'lot_eth': 150,\n  'bid_dai': 0,\n  'bidder': '',\n  'expiry': 0},\n '1b3b385a571b4a8d8cc9487df4b7b53b': {'flip_id': '1b3b385a571b4a8d8cc9487df4b7b53b',\n  'phase': 'tend',\n  'debt_to_flip': 110.00000000000001,\n  'vault': '3ad8b66e16224dd2b6dc28526f50cac6',\n  'lot_eth': 150,\n  'bid_dai': 0,\n  'bidder': '',\n  'expiry': 0},\n 'd699b4e38e8b409989e3fd71863e5737': {'flip_id': 'd699b4e38e8b409989e3fd71863e5737',\n  'phase': 'tend',\n  'debt_to_flip': 110.00000000000001,\n  'vault': '3bb4e5702fc6467c8868d196ecab6f0a',\n  'lot_eth': 150,\n  'bid_dai': 0,\n  'bidder': '',\n  'expiry': 0},\n '6dd9a34e69424c328933b47ba2b769f5': {'flip_id': '6dd9a34e69424c328933b47ba2b769f5',\n  'phase': 'tend',\n  'debt_to_flip': 110.00000000000001,\n  'vault': '7d96afa36a0d4e08a3785fd34ab79aa5',\n  'lot_eth': 150,\n  'bid_dai': 0,\n  'bidder': '',\n  'expiry': 0},\n 'a34dceb8edd3488494bf001e9233948a': {'flip_id': 'a34dceb8edd3488494bf001e9233948a',\n  'phase': 'tend',\n  'debt_to_flip': 110.00000000000001,\n  'vault': 'abd2fd1aefd747bfa74ea96bc06a6edf',\n  'lot_eth': 150,\n  'bid_dai': 0,\n  'bidder': '',\n  'expiry': 0},\n 'e75f7243855949eb9b12ff26d6ace7d4': {'flip_id': 'e75f7243855949eb9b12ff26d6ace7d4',\n  'phase': 'tend',\n  'debt_to_flip': 110.00000000000001,\n  'vault': 'c223a5e83be649c4bbb29ebf49136abd',\n  'lot_eth': 150,\n  'bid_dai': 0,\n  'bidder': '',\n  'expiry': 0},\n 'acd6b878c91d4bfabc394918f79dd264': {'flip_id': 'acd6b878c91d4bfabc394918f79dd264',\n  'phase': 'tend',\n  'debt_to_flip': 110.00000000000001,\n  'vault': '4082b8539ebf4265854edaa22ff01755',\n  'lot_eth': 150,\n  'bid_dai': 0,\n  'bidder': '',\n  'expiry': 0},\n '588cdca04c2c4154a043e55d862d2be5': {'flip_id': '588cdca04c2c4154a043e55d862d2be5',\n  'phase': 'tend',\n  'debt_to_flip': 110.00000000000001,\n  'vault': 'f141fe99bd4a4dd8a39f274119fb59fb',\n  'lot_eth': 150,\n  'bid_dai': 0,\n  'bidder': '',\n  'expiry': 0},\n '6ca87c97d21c46ccb3604d84839d603f': {'flip_id': '6ca87c97d21c46ccb3604d84839d603f',\n  'phase': 'tend',\n  'debt_to_flip': 110.00000000000001,\n  'vault': 'a766103ef46e4a43b963e6b59eb58eb1',\n  'lot_eth': 150,\n  'bid_dai': 0,\n  'bidder': '',\n  'expiry': 0},\n '989e8606418848989c47ec9b0621e8a4': {'flip_id': '989e8606418848989c47ec9b0621e8a4',\n  'phase': 'tend',\n  'debt_to_flip': 110.00000000000001,\n  'vault': '8b065a82f4114d3d9b2c13c0844e7ed9',\n  'lot_eth': 150,\n  'bid_dai': 0,\n  'bidder': '',\n  'expiry': 0},\n '7685f669e8f744bab2d2a0fcba0a3cd3': {'flip_id': '7685f669e8f744bab2d2a0fcba0a3cd3',\n  'phase': 'tend',\n  'debt_to_flip': 110.00000000000001,\n  'vault': '29667c9324ea4162ad03b5f508b088df',\n  'lot_eth': 150,\n  'bid_dai': 0,\n  'bidder': '',\n  'expiry': 0},\n '265cb70cb45a45dc9536f17abadb1e2c': {'flip_id': '265cb70cb45a45dc9536f17abadb1e2c',\n  'phase': 'tend',\n  'debt_to_flip': 110.00000000000001,\n  'vault': 'dc39e4daa79c466786becdf85d1aab99',\n  'lot_eth': 150,\n  'bid_dai': 0,\n  'bidder': '',\n  'expiry': 0},\n ...}"
     },
     "metadata": {},
     "execution_count": 10
    }
   ],
   "source": [
    "results[0][\"flipper\"][2]"
   ]
  },
  {
   "cell_type": "code",
   "execution_count": null,
   "metadata": {},
   "outputs": [],
   "source": []
  }
 ],
 "metadata": {
  "language_info": {
   "codemirror_mode": {
    "name": "ipython",
    "version": 3
   },
   "file_extension": ".py",
   "mimetype": "text/x-python",
   "name": "python",
   "nbconvert_exporter": "python",
   "pygments_lexer": "ipython3",
   "version": "3.6.10-final"
  },
  "orig_nbformat": 2,
  "kernelspec": {
   "name": "python361064bitstablecoinresearchconda0c4fdeb12b0845fdb781efc02b665063",
   "display_name": "Python 3.6.10 64-bit ('stablecoin_research': conda)"
  }
 },
 "nbformat": 4,
 "nbformat_minor": 2
}